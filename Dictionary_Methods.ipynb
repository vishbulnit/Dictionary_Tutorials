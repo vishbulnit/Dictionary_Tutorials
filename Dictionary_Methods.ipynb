{
 "cells": [
  {
   "cell_type": "markdown",
   "id": "91bdfe03",
   "metadata": {},
   "source": [
    "## Dictionary Important Methods Explained with Examples\n",
    "\n",
    "### Quick summary on dictionary methods\n",
    "\n",
    "\n",
    "clear():  Removes all the elements from the dictionary\n",
    "<br> copy():  Returns a copy of the dictionary\n",
    "<br> fromkeys():  Returns a dictionary with the specified keys and value\n",
    "<br> get():  Returns the value of the specified key\n",
    "<br> items():  Returns a list containing a tuple for each key value pair\n",
    "<br> keys():  Returns a list containing the dictionary's keys\n",
    "<br> values():  Returns a list of all the values in the dictionary\n",
    "<br> pop():  Removes the element with the specified key\n",
    "<br> popitem():  Removes the last inserted key-value pair\n",
    "<br> update():  Insert specified key-value pairs to dictionary, if key already exists then update its value \n",
    "<br> setdefault():  Returns the value of the specified key. If the key does not exist: insert the key, with the specified value"
   ]
  },
  {
   "cell_type": "code",
   "execution_count": 53,
   "id": "a775805d",
   "metadata": {},
   "outputs": [
    {
     "name": "stdout",
     "output_type": "stream",
     "text": [
      "{'Sunday': 1, 'Monday': 2, 'Tuesday': 3, 'Wednesday': 4, 'Thursday': 5, 'Friday': 6, 'Saturday': 7}\n",
      "{}\n"
     ]
    }
   ],
   "source": [
    "## clear()\n",
    "## removes all the elements from the dictionary\n",
    "\n",
    "day_of_week={\n",
    "  \"Sunday\": 1,\n",
    "  \"Monday\": 2,\n",
    "  \"Tuesday\": 3,\n",
    "  \"Wednesday\": 4,\n",
    "  \"Thursday\": 5,\n",
    "  \"Friday\": 6,\n",
    "  \"Saturday\": 7\n",
    "}\n",
    "\n",
    "print(day_of_week)\n",
    "\n",
    "day_of_week.clear()\n",
    "\n",
    "print(day_of_week)\n"
   ]
  },
  {
   "cell_type": "code",
   "execution_count": 54,
   "id": "2900e621",
   "metadata": {},
   "outputs": [
    {
     "name": "stdout",
     "output_type": "stream",
     "text": [
      "{'Sunday': 1, 'Monday': 2, 'Tuesday': 3, 'Wednesday': 4, 'Thursday': 5, 'Friday': 6, 'Saturday': 7}\n",
      "{'Sunday': 1, 'Monday': 2, 'Tuesday': 3, 'Wednesday': 4, 'Thursday': 5, 'Friday': 6, 'Saturday': 7}\n"
     ]
    }
   ],
   "source": [
    "## copy()\n",
    "## copy method returns the copy of the specified dictionary\n",
    "\n",
    "day_of_week={\n",
    "  \"Sunday\": 1,\n",
    "  \"Monday\": 2,\n",
    "  \"Tuesday\": 3,\n",
    "  \"Wednesday\": 4,\n",
    "  \"Thursday\": 5,\n",
    "  \"Friday\": 6,\n",
    "  \"Saturday\": 7\n",
    "}\n",
    "\n",
    "print(day_of_week)\n",
    "\n",
    "Y = day_of_week.copy()\n",
    "\n",
    "print(Y)"
   ]
  },
  {
   "cell_type": "code",
   "execution_count": 17,
   "id": "8261c15e",
   "metadata": {},
   "outputs": [
    {
     "name": "stdout",
     "output_type": "stream",
     "text": [
      "{'Jan': [1, 2, 3, 4, 5, 6, 7, 8, 9, 10, 11, 12], 'Feb': [1, 2, 3, 4, 5, 6, 7, 8, 9, 10, 11, 12], 'Mar': [1, 2, 3, 4, 5, 6, 7, 8, 9, 10, 11, 12], 'Apr': [1, 2, 3, 4, 5, 6, 7, 8, 9, 10, 11, 12], 'May': [1, 2, 3, 4, 5, 6, 7, 8, 9, 10, 11, 12], 'Jun': [1, 2, 3, 4, 5, 6, 7, 8, 9, 10, 11, 12], 'Jul': [1, 2, 3, 4, 5, 6, 7, 8, 9, 10, 11, 12], 'Aug': [1, 2, 3, 4, 5, 6, 7, 8, 9, 10, 11, 12], 'Sep': [1, 2, 3, 4, 5, 6, 7, 8, 9, 10, 11, 12], 'Oct': [1, 2, 3, 4, 5, 6, 7, 8, 9, 10, 11, 12], 'Nov': [1, 2, 3, 4, 5, 6, 7, 8, 9, 10, 11, 12], 'Dec': [1, 2, 3, 4, 5, 6, 7, 8, 9, 10, 11, 12]}\n",
      "-----------------------------------------------\n",
      "{'Jan': 365, 'Feb': 365, 'Mar': 365, 'Apr': 365, 'May': 365, 'Jun': 365, 'Jul': 365, 'Aug': 365, 'Sep': 365, 'Oct': 365, 'Nov': 365, 'Dec': 365}\n"
     ]
    }
   ],
   "source": [
    "## fromkeys(seq,val)\n",
    "## fromkeys method returns a dictionary with specified key and specified value\n",
    "\n",
    "\n",
    "month_key=('Jan','Feb','Mar','Apr','May','Jun','Jul','Aug','Sep','Oct','Nov','Dec')\n",
    "month_val=[1,2,3,4,5,6,7,8,9,10,11,12]\n",
    "\n",
    "month_dict = dict.fromkeys(month_key, month_val)\n",
    "\n",
    "print(month_dict)\n",
    "print(\"-----------------------------------------------\")\n",
    "month_key=['Jan','Feb','Mar','Apr','May','Jun','Jul','Aug','Sep','Oct','Nov','Dec']\n",
    "month_val=365\n",
    "\n",
    "month_dict = dict.fromkeys(month_key, month_val)\n",
    "\n",
    "print(month_dict)\n"
   ]
  },
  {
   "cell_type": "code",
   "execution_count": 25,
   "id": "dc4a9b58",
   "metadata": {},
   "outputs": [
    {
     "name": "stdout",
     "output_type": "stream",
     "text": [
      "5\n",
      "{'Jan': 1, 'Feb': 2, 'Mar': 3, 'Apr': 4, 'May': 5, 'Jun': 6, 'Jul': 7, 'Aug': 8, 'Sep': 9, 'Oct': 10, 'Nov': 11, 'Dec': 12}\n",
      "None\n"
     ]
    }
   ],
   "source": [
    "## get()\n",
    "## get method returns the value of the item with specified key\n",
    "\n",
    "day_of_week={\n",
    "  \"Sunday\": 1,\n",
    "  \"Monday\": 2,\n",
    "  \"Tuesday\": 3,\n",
    "  \"Wednesday\": 4,\n",
    "  \"Thursday\": 5,\n",
    "  \"Friday\": 6,\n",
    "  \"Saturday\": 7\n",
    "}\n",
    "\n",
    "x = day_of_week.get(\"Thursday\")\n",
    "print(x)\n",
    "\n",
    "week_month={\n",
    "  'week': {\"Sunday\": 1,\"Monday\": 2, \"Tuesday\": 3,\"Wednesday\": 4,\"Thursday\": 5,\"Friday\": 6,\"Saturday\": 7},\n",
    "   'month': {'Jan': 1, 'Feb': 2, 'Mar': 3, 'Apr': 4, 'May': 5, 'Jun': 6, 'Jul': 7, 'Aug': 8, 'Sep': 9, 'Oct': 10, 'Nov': 11, 'Dec': 12}\n",
    "}\n",
    "\n",
    "y = week_month.get(\"month\")\n",
    "print(y)\n",
    "z = week_month.get(\"year\")\n",
    "print(z)"
   ]
  },
  {
   "cell_type": "code",
   "execution_count": 42,
   "id": "b9097063",
   "metadata": {},
   "outputs": [
    {
     "name": "stdout",
     "output_type": "stream",
     "text": [
      "dict_items([('Jan', 1), ('Feb', 2), ('Mar', 3), ('Apr', 4), ('May', 5), ('Jun', 6), ('Jul', 7), ('Aug', 8), ('Sep', 9), ('Oct', 10), ('Nov', 11), ('Dec', 12)])\n",
      "-------------------------------------------------\n",
      "dict_items([('Jan', 1), ('Feb', 2), ('Mar', 3), ('Apr', 44), ('May', 5), ('Jun', 6), ('Jul', 7), ('Aug', 8), ('Sep', 9), ('Oct', 10), ('Nov', 11), ('Dec', 12)])\n"
     ]
    }
   ],
   "source": [
    "## item()\n",
    "## return the view object of the dictionary\n",
    "## view object will reflect any changes made to dictionary\n",
    "\n",
    "month= {'Jan':1,'Feb':2,'Mar':3,'Apr':4,'May':5,'Jun':6,'Jul':7,'Aug':8,'Sep':9,'Oct':10,'Nov':11,'Dec':12}\n",
    "x = month.items()\n",
    "print(x)\n",
    "print(\"-------------------------------------------------\")\n",
    "\n",
    "\n",
    "month['Apr']=44\n",
    "print(x)"
   ]
  },
  {
   "cell_type": "code",
   "execution_count": 52,
   "id": "bd1914f9",
   "metadata": {},
   "outputs": [
    {
     "name": "stdout",
     "output_type": "stream",
     "text": [
      "dict_keys(['Jan', 'Feb', 'Mar', 'Apr', 'May', 'Jun', 'Jul', 'Aug', 'Sep', 'Oct', 'Nov', 'Dec'])\n"
     ]
    },
    {
     "data": {
      "text/plain": [
       "dict_keys"
      ]
     },
     "execution_count": 52,
     "metadata": {},
     "output_type": "execute_result"
    }
   ],
   "source": [
    "## keys()\n",
    "## returns the view object of the dictionary. The view object contains the keys of the dictionary.\n",
    "## view object will reflect any changes made to dictionary\n",
    "\n",
    "month= {'Jan':1,'Feb':2,'Mar':3,'Apr':4,'May':5,'Jun':6,'Jul':7,'Aug':8,'Sep':9,'Oct':10,'Nov':11,'Dec':12}\n",
    "x = month.keys()\n",
    "print(x)\n",
    "type(x)"
   ]
  },
  {
   "cell_type": "code",
   "execution_count": 55,
   "id": "f11eb8b8",
   "metadata": {},
   "outputs": [
    {
     "name": "stdout",
     "output_type": "stream",
     "text": [
      "dict_values([1, 2, 3, 4, 5, 6, 7, 8, 9, 10, 11, 12])\n"
     ]
    },
    {
     "data": {
      "text/plain": [
       "dict_values"
      ]
     },
     "execution_count": 55,
     "metadata": {},
     "output_type": "execute_result"
    }
   ],
   "source": [
    "## values()\n",
    "## returns the view object of the dictionary. The view object contains the values of the dictionary.\n",
    "## view object will reflect any changes made to dictionary\n",
    "\n",
    "month= {'Jan':1,'Feb':2,'Mar':3,'Apr':4,'May':5,'Jun':6,'Jul':7,'Aug':8,'Sep':9,'Oct':10,'Nov':11,'Dec':12}\n",
    "x = month.values()\n",
    "print(x)\n",
    "type(x)"
   ]
  },
  {
   "cell_type": "code",
   "execution_count": 77,
   "id": "25bc3a9c",
   "metadata": {},
   "outputs": [
    {
     "name": "stdout",
     "output_type": "stream",
     "text": [
      "7\n",
      "3\n",
      "8\n",
      "12\n"
     ]
    }
   ],
   "source": [
    "## pop()\n",
    "## pop method removes the specified item from the dictionary, if key is not available then gives KeyError\n",
    "## pop method returns the value of the removed item \n",
    "\n",
    "month= {'Jan':1,'Feb':2,'Mar':3,'Apr':4,'May':5,'Jun':6,'Jul':7,'Aug':8,'Sep':9,'Oct':10,'Nov':11,'Dec':12}\n",
    "x = month.pop(\"Jul\")\n",
    "print(x)\n",
    "\n",
    "y = month.pop(\"Mar\")\n",
    "print(y)\n",
    "\n",
    "print(month.pop(\"Aug\"))\n",
    "print(month.pop(\"Dec\"))"
   ]
  },
  {
   "cell_type": "code",
   "execution_count": 84,
   "id": "a45872f0",
   "metadata": {},
   "outputs": [
    {
     "name": "stdout",
     "output_type": "stream",
     "text": [
      "{'Jan': 1, 'Feb': 2}\n",
      "{'Jan': 1, 'Feb': 2, 'May': 5}\n",
      "{'Jan': 1, 'Feb': 2, 'May': 5, 'Mar': 3}\n",
      "{'Jan': 1, 'Feb': 2, 'May': 5, 'Mar': 3, 'Jun': 6}\n",
      "{'Jan': 1, 'Feb': 2, 'May': 5, 'Mar': 3, 'Jun': 6, 'Apr': 4}\n",
      "{'Jan': 1, 'Feb': 2, 'May': 5, 'Mar': 3, 'Jun': 6}\n",
      "{'Jan': 1, 'Feb': 2, 'May': 5, 'Mar': 3}\n",
      "('Jun', 6)\n",
      "{'Jan': 1, 'Feb': 2, 'May': 5}\n",
      "{'Jan': 11, 'Feb': 2, 'May': 5}\n",
      "('May', 5)\n",
      "{'Jan': 11, 'Feb': 2}\n"
     ]
    }
   ],
   "source": [
    "## popitem() \n",
    "## popitem method removes the last item form the dictionary\n",
    "## popitem method returns the value of the removed item \n",
    "\n",
    "## update()\n",
    "## update method insert specified item to dictionary, specified item can be dictionary or an iterable object with key-value pair\n",
    "\n",
    "#,'Mar':3,'Apr':4,'May':5,'Jun':6,'Jul':7,'Aug':8,'Sep':9,'Oct':10,'Nov':11,'Dec':12\n",
    "month={'Jan':1,'Feb':2}\n",
    "print(month)\n",
    "month.update({'May':5}) ## update method\n",
    "print(month)\n",
    "month.update({'Mar':3}) ## update method\n",
    "print(month)\n",
    "month.update({'Jun':6}) ## update method\n",
    "print(month)\n",
    "month.update({'Apr':4}) ## update method\n",
    "print(month)\n",
    "\n",
    "month.popitem()\n",
    "print(month)\n",
    "\n",
    "x=month.popitem()\n",
    "print(month)\n",
    "print(x)\n",
    "\n",
    "month.popitem()\n",
    "print(month)\n",
    "\n",
    "month.update({'Jan':11}) ## update method\n",
    "print(month)\n",
    "\n",
    "print(month.popitem())\n",
    "print(month)"
   ]
  },
  {
   "cell_type": "code",
   "execution_count": 82,
   "id": "7645e443",
   "metadata": {},
   "outputs": [
    {
     "name": "stdout",
     "output_type": "stream",
     "text": [
      "{'Jan': 1, 'Feb': 2, 'Mar': 3}\n",
      "--------------------\n",
      "1\n",
      "{'Jan': 1, 'Feb': 2, 'Mar': 3}\n",
      "--------------------\n",
      "4\n",
      "{'Jan': 1, 'Feb': 2, 'Mar': 3, 'Apr': 4}\n"
     ]
    }
   ],
   "source": [
    "## setdefault \n",
    "## The setdefault() method returns the value of the item with the specified key.\n",
    "## If the key does not exist, insert the key, with the specified value\n",
    "\n",
    "month= {'Jan':1,'Feb':2,'Mar':3}\n",
    "print(month)\n",
    "print(\"--------------------\")\n",
    "x = month.setdefault('Jan',11)\n",
    "print(x)\n",
    "print(month)\n",
    "print(\"--------------------\")\n",
    "x = month.setdefault('Apr',4)\n",
    "print(x)\n",
    "print(month)"
   ]
  },
  {
   "cell_type": "code",
   "execution_count": null,
   "id": "c6dcb9f4",
   "metadata": {},
   "outputs": [],
   "source": []
  }
 ],
 "metadata": {
  "kernelspec": {
   "display_name": "Python 3 (ipykernel)",
   "language": "python",
   "name": "python3"
  },
  "language_info": {
   "codemirror_mode": {
    "name": "ipython",
    "version": 3
   },
   "file_extension": ".py",
   "mimetype": "text/x-python",
   "name": "python",
   "nbconvert_exporter": "python",
   "pygments_lexer": "ipython3",
   "version": "3.10.9"
  }
 },
 "nbformat": 4,
 "nbformat_minor": 5
}
